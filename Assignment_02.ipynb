{
  "nbformat": 4,
  "nbformat_minor": 0,
  "metadata": {
    "colab": {
      "name": "Assignment_02.ipynb",
      "provenance": [],
      "authorship_tag": "ABX9TyOypn/MD8ajv8oqy3/8s34A",
      "include_colab_link": true
    },
    "kernelspec": {
      "name": "python3",
      "display_name": "Python 3"
    },
    "language_info": {
      "name": "python"
    }
  },
  "cells": [
    {
      "cell_type": "markdown",
      "metadata": {
        "id": "view-in-github",
        "colab_type": "text"
      },
      "source": [
        "<a href=\"https://colab.research.google.com/github/m0ohannad/AI_lab_Assignment_02/blob/main/Assignment_02.ipynb\" target=\"_parent\"><img src=\"https://colab.research.google.com/assets/colab-badge.svg\" alt=\"Open In Colab\"/></a>"
      ]
    },
    {
      "cell_type": "markdown",
      "metadata": {
        "id": "Wg363GwIt-It"
      },
      "source": [
        "# **Q1**"
      ]
    },
    {
      "cell_type": "markdown",
      "metadata": {
        "id": "2Eha899QuCG2"
      },
      "source": [
        "1. In the code editor, we've already stored the five rows as lists in separate variables. Group together the five lists in a list of lists. Assign the resulting list of lists to a variable named **app_data_set**.\n",
        "\n",
        "2. Compute the average rating of the apps by retrieving the right data points from the **app_data_set** list of lists.\n",
        "  * The rating is the last element of each row. You'll need to sum up the ratings and then divide by the number of ratings.\n",
        "  \n",
        "  * Assign the result to a variable named **avg_rating**.\n",
        "\n",
        "```\n",
        "row_1 = ['Facebook', 0.0, 'USD', 2974676, 3.5]\n",
        "row_2 = ['Instagram', 0.0, 'USD', 2161558, 4.5]\n",
        "row_3 = ['Clash of Clans', 0.0, 'USD', 2130805, 4.5]\n",
        "row_4 = ['Temple Run', 0.0, 'USD', 1724546, 4.5]\n",
        "row_5 = ['Pandora - Music & Radio', 0.0, 'USD', 1126879, 4.0]\n",
        "```\n",
        "\n"
      ]
    },
    {
      "cell_type": "code",
      "metadata": {
        "colab": {
          "base_uri": "https://localhost:8080/"
        },
        "id": "jz9YE6LlsDIo",
        "outputId": "78d9b39d-4686-4dd2-ec45-c4b49c3ee026"
      },
      "source": [
        "row_1 = ['Facebook', 0.0, 'USD', 2974676, 3.5]\n",
        "row_2 = ['Instagram', 0.0, 'USD', 2161558, 4.5]\n",
        "row_3 = ['Clash of Clans', 0.0, 'USD', 2130805, 4.5]\n",
        "row_4 = ['Temple Run', 0.0, 'USD', 1724546, 4.5]\n",
        "row_5 = ['Pandora - Music & Radio', 0.0, 'USD', 1126879, 4.0]\n",
        "\n",
        "app_data_set = [row_1, row_2, row_3, row_4, row_5]\n",
        "\n",
        "ratings = []\n",
        "for row in app_data_set:\n",
        "  ratings.append(row[-1])\n",
        "\n",
        "avg_rating = sum(ratings) / len(ratings)\n",
        "print(avg_rating)"
      ],
      "execution_count": 1,
      "outputs": [
        {
          "output_type": "stream",
          "text": [
            "4.2\n"
          ],
          "name": "stdout"
        }
      ]
    },
    {
      "cell_type": "markdown",
      "metadata": {
        "id": "0dOcb2clP8Nq"
      },
      "source": [
        "# **Q2**\n",
        "Open the **AppleStore.csv** file and store it as list of lists.\n"
      ]
    },
    {
      "cell_type": "markdown",
      "metadata": {
        "id": "vxV7LslsQBXk"
      },
      "source": [
        "1. Open the file using the **`open()`** command. Save the output to a variable named **opened_file**.\n",
        "\n",
        "2. Read in the opened file using the **`reader()`** command (we've already imported **`reader()`** for you from the **csv** module). Save the output to a variable named **read_file**.\n",
        "\n",
        "3. Transform the read-in file to a list of lists using the **`list()`** command. Save the list of lists to a variable named **apps_data**.\n",
        "\n",
        "4. Explore **apps_data**. You could:\n",
        "  * Print its length using the **`len()`** command\n",
        "  * Print the first row (the row describing column names)\n",
        "  * Print the second and the third row (try to use list slicing here)"
      ]
    },
    {
      "cell_type": "code",
      "metadata": {
        "colab": {
          "base_uri": "https://localhost:8080/"
        },
        "id": "BB4FcAewHdo8",
        "outputId": "348f80a4-710c-4bd9-9cf7-5ebcde8e2859"
      },
      "source": [
        "from csv import reader\n",
        "\n",
        "opened_file = open('AppleStore.csv', encoding=\"utf8\")\n",
        "read_file = reader(opened_file)\n",
        "\n",
        "apps_data = list(read_file)\n",
        "\n",
        "print('List length:',len(apps_data))\n",
        "print('Description row:',apps_data[0])\n",
        "print('second and the third row:',apps_data[1:3])"
      ],
      "execution_count": 2,
      "outputs": [
        {
          "output_type": "stream",
          "text": [
            "List length: 7198\n",
            "Description row: ['id', 'track_name', 'size_bytes', 'currency', 'price', 'rating_count_tot', 'rating_count_ver', 'user_rating', 'user_rating_ver', 'ver', 'cont_rating', 'prime_genre', 'sup_devices.num', 'ipadSc_urls.num', 'lang.num', 'vpp_lic']\n",
            "second and the third row: [['281656475', 'PAC-MAN Premium', '100788224', 'USD', '3.99', '21292', '26', '4', '4.5', '6.3.5', '4+', 'Games', '38', '5', '10', '1'], ['281796108', 'Evernote - stay organized', '158578688', 'USD', '0', '161065', '26', '4', '3.5', '8.2.2', '4+', 'Productivity', '37', '5', '23', '1']]\n"
          ],
          "name": "stdout"
        }
      ]
    },
    {
      "cell_type": "markdown",
      "metadata": {
        "id": "o4T26AtIXFfD"
      },
      "source": [
        "# **Q3**\n",
        "Compute the average app rating for the apps stored in the **app_data_set** variable."
      ]
    },
    {
      "cell_type": "markdown",
      "metadata": {
        "id": "dIDK-YfAXlI2"
      },
      "source": [
        "1. Initialize a variable named **rating_sum** with a value of zero outside the loop body.\n",
        "\n",
        "2. Loop (iterate) over the **app_data_set** list of lists. For each of the five iterations of the loop (***for*** each row ***in*** **app_data_set**):\n",
        "\n",
        "  * Extract the rating of the app and store it to a variable named **rating**. The rating is the last element of each row.\n",
        "\n",
        "  * Add the value stored in **rating** to the current value of the **rating_sum**.\n",
        "\n",
        "5. Outside the loop body, divide the rating sum (stored in **rating_sum**) by the number of ratings to get an average value. Store the result in a variable named **avg_rating**.\n",
        "\n",
        "\n",
        "\n",
        "```\n",
        "row_1 = ['Facebook', 0.0, 'USD', 2974676, 3.5]\n",
        "row_2 = ['Instagram', 0.0, 'USD', 2161558, 4.5]\n",
        "row_3 = ['Clash of Clans', 0.0, 'USD', 2130805, 4.5]\n",
        "row_4 = ['Temple Run', 0.0, 'USD', 1724546, 4.5]\n",
        "row_5 = ['Pandora - Music & Radio', 0.0, 'USD', 1126879, 4.0]\n",
        "\n",
        "app_data_set = [row_1, row_2, row_3, row_4, row_5]\n",
        "```\n",
        "\n"
      ]
    },
    {
      "cell_type": "code",
      "metadata": {
        "colab": {
          "base_uri": "https://localhost:8080/"
        },
        "id": "SEzt_TeEUalM",
        "outputId": "ed8bab34-033b-469e-c8bf-98c7082c7258"
      },
      "source": [
        "rating_sum = 0\n",
        "for row in app_data_set:\n",
        "    rating = row[-1]\n",
        "    rating_sum += rating\n",
        "avg_rating = rating_sum / len(app_data_set)\n",
        "avg_rating"
      ],
      "execution_count": 3,
      "outputs": [
        {
          "output_type": "execute_result",
          "data": {
            "text/plain": [
              "4.2"
            ]
          },
          "metadata": {
            "tags": []
          },
          "execution_count": 3
        }
      ]
    },
    {
      "cell_type": "markdown",
      "metadata": {
        "id": "4DgZmYtzcSTl"
      },
      "source": [
        "# **Q4**\n",
        "Compute the average app rating for all apps stored in **AppleStore.csv**."
      ]
    },
    {
      "cell_type": "markdown",
      "metadata": {
        "id": "l1LqgsKlcyEW"
      },
      "source": [
        "1. Initialize a variable named **rating_sum** with a value of zero.\n",
        "\n",
        "2. Loop through the **apps_data[1:]** list of lists (make sure you don't include the header row). For each of the 7,197 iterations of the loop (***for*** each row ***in*** **apps_data[1:]**):\n",
        "\n",
        "  * Extract the rating of the app and store it to a variable named **rating** (the rating has the index number **7**). Make sure you convert the rating value from a string to a float using the **`float()`** command.\n",
        "\n",
        "  * Add the value stored in **rating** to the current value of the **rating_sum**.\n",
        "\n",
        "3. Divide the rating sum (stored in **rating_sum**) by the number of ratings to get an average value. Store the result in a variable named **avg_rating**."
      ]
    },
    {
      "cell_type": "code",
      "metadata": {
        "colab": {
          "base_uri": "https://localhost:8080/"
        },
        "id": "6ANtb8gbcMnZ",
        "outputId": "2330b7bf-35ef-4b80-f1fe-a96f7def9746"
      },
      "source": [
        "rating_sum = 0\n",
        "for row in apps_data[1:]:\n",
        "  rating = float(row[7])\n",
        "  rating_sum += rating\n",
        "avg_rating = rating_sum / len(apps_data[1:])\n",
        "avg_rating"
      ],
      "execution_count": 4,
      "outputs": [
        {
          "output_type": "execute_result",
          "data": {
            "text/plain": [
              "3.526955675976101"
            ]
          },
          "metadata": {
            "tags": []
          },
          "execution_count": 4
        }
      ]
    },
    {
      "cell_type": "markdown",
      "metadata": {
        "id": "kFi9YvoziBs1"
      },
      "source": [
        "# **Q5**\n",
        "Compute the average app rating for all apps stored in AppleStore.csv."
      ]
    },
    {
      "cell_type": "markdown",
      "metadata": {
        "id": "ZfmQWtZtiReC"
      },
      "source": [
        "1. Initialize an empty list named **all_ratings**.\n",
        "\n",
        "2. Loop through the **apps_data[1:]** list of lists (make sure you don't include the header row). For each of the 7,197 iterations of the loop:\n",
        "\n",
        "  * Extract the rating of the app and store it to a variable named **rating** (the rating has the index number **7**). Make sure you convert the rating value from a string to a float.\n",
        "\n",
        "  * Append the value stored in **rating** to the list **all_ratings**.\n",
        "\n",
        "3. Compute the sum of all ratings using the **`sum()`** command.\n",
        "\n",
        "4. Divide the sum of all ratings by the number of ratings, and assign the result to a variable named **avg_rating**."
      ]
    },
    {
      "cell_type": "code",
      "metadata": {
        "colab": {
          "base_uri": "https://localhost:8080/"
        },
        "id": "HgPLlzdye3bJ",
        "outputId": "721e7c2e-4617-495c-e31b-4db8a8d35c89"
      },
      "source": [
        "all_ratings = []\n",
        "for row in apps_data[1:]:\n",
        "  rating = float(row[7])\n",
        "  all_ratings.append(rating)\n",
        "\n",
        "sum = sum(all_ratings)\n",
        "\n",
        "avg_rating = sum / len(apps_data[1:])\n",
        "avg_rating"
      ],
      "execution_count": 5,
      "outputs": [
        {
          "output_type": "execute_result",
          "data": {
            "text/plain": [
              "3.526955675976101"
            ]
          },
          "metadata": {
            "tags": []
          },
          "execution_count": 5
        }
      ]
    }
  ]
}